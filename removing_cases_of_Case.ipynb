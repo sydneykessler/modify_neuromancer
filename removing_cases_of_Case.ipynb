{
 "cells": [
  {
   "cell_type": "markdown",
   "metadata": {},
   "source": [
    "# Removing cases of Case: \n",
    "## A script to transform Neuromancer into readable content"
   ]
  },
  {
   "cell_type": "markdown",
   "metadata": {},
   "source": [
    "I have been told that *Neuromancer* by William Gibson is one of the best and most foundational science fiction books there is. I've wanted to read it for awhile, but now that I've started, I find myself unable to get through it. Part of it is Gibson's depiction of female characters, but I've trudged through misogynistic novels before. No. My main problem is this: in dialogue, characters *constantly* address other characters by their names when they talk to them. And by constantly I mean almost every other sentence. Example:\n",
    "\n",
    ">\"Get your coffee, __Case__,\" Molly said. \"You’re okay, but you’re not going anywhere 'til Armitage has his \n",
    "say.\" She sat cross legged on a silk futon and began to fieldstrip the fletcher without bothering to look at \n",
    "it. Twin mirrors tracking as he crossed to the table and refilled his cup. <br><p></p>\n",
    "\"Too young to remember the war, aren’t you, __Case__?\" Armitage ran a large hand back through his \n",
    "cropped brown hair. A heavy gold bracelet flashed on his wrist. \"Leningrad, Kiev, Siberia. We invented \n",
    "you in Siberia, __Case__.\" <br><p></p>\n",
    "\"What’s that supposed to mean?\" <br><p></p>\n",
    "\"Screaming Fist, __Case__. You’ve heard the name.\" <br><p></p>\n",
    "\"Some kind of run, wasn’t it? Tried to burn this Russian nexus with virus programs. Yeah, I heard about \n",
    "it. And nobody got out.\" <br><p></p>\n",
    "He sensed abrupt tension. Armitage walked to the window and looked out over Tokyo Bay. \"That isn’t \n",
    "true. One unit made it back to Helsinki, __Case__.\" \n",
    "\n",
    "PEOPLE. DON'T. TALK. LIKE. THIS.\n",
    "\n",
    "So, in order for me to get through this book, I am simply going to take out all the cases of Case that don't need to be there. This will be a task of importing messy data, parsing through it to take out all viable Cases, and exporting it to a readable format. "
   ]
  },
  {
   "cell_type": "markdown",
   "metadata": {},
   "source": [
    "Copy of Neuromancer in text format: https://archive.org/stream/NeuromancerWilliamGibson/Neuromancer%20-%20William%20Gibson_djvu.txt"
   ]
  },
  {
   "cell_type": "code",
   "execution_count": 1,
   "metadata": {},
   "outputs": [],
   "source": [
    "# import text\n",
    "# format text into a form I can work with\n",
    "# define conditions for which to remove \"Case\"\n",
    "    # when \"Case\" (WITH THE FIRST LETTER CAPITALIZED) occurs between \"\" \n",
    "    #       and isn't the only word between \"\" --> figure out how to define open and closed \"\"\n",
    "    # be sure to remove all white space + comma before. Almost always occurs at end of sentence? Can check.\n",
    "    # other names to consider: Ratz, Molly. \n",
    "# find cases of these and replace accordingly\n",
    "# transform text into resonable format and export"
   ]
  },
  {
   "cell_type": "code",
   "execution_count": 199,
   "metadata": {},
   "outputs": [],
   "source": [
    "# importing stuff\n",
    "import urllib\n",
    "import pandas as pd\n",
    "from bs4 import BeautifulSoup\n",
    "import re\n",
    "# from ebooklib import epub\n",
    "import spacy\n",
    "import en_core_web_sm\n",
    "import numpy as np"
   ]
  },
  {
   "cell_type": "code",
   "execution_count": 3,
   "metadata": {},
   "outputs": [],
   "source": [
    "# import page content\n",
    "target_url = \"https://archive.org/stream/NeuromancerWilliamGibson/Neuromancer%20-%20William%20Gibson_djvu.txt\"\n",
    "txt = urllib.request.urlopen(target_url).read()"
   ]
  },
  {
   "cell_type": "code",
   "execution_count": 8,
   "metadata": {},
   "outputs": [],
   "source": [
    "# make a nice soup\n",
    "soup = BeautifulSoup(txt, 'html.parser')"
   ]
  },
  {
   "cell_type": "code",
   "execution_count": 32,
   "metadata": {},
   "outputs": [],
   "source": [
    "# get full text (ft)\n",
    "# found that text began with \"pre\" by scrolling through it \n",
    "ft = soup.find('pre')\n",
    "strft = ft.string"
   ]
  },
  {
   "cell_type": "markdown",
   "metadata": {},
   "source": [
    "Alright, now that I've figured out how to remove cases of Case (see Appendix), I need to go back a few steps. \"Case\" isn't the only character in Neuromancer, and I bet anything he does the weird dialogue thing with other characters, too. That means I have to account for this for other character's names. Only, I haven't read the book yet, so I don't know who the other characters are! \n",
    "\n",
    "I'm going to used Named Entity Recognition to try and identify all of the important characters, so I can apply these same rules to them, too. "
   ]
  },
  {
   "cell_type": "code",
   "execution_count": 189,
   "metadata": {},
   "outputs": [],
   "source": [
    "# load model\n",
    "\n",
    "#nlp = spacy.load(\"en_core_web_sm\")\n",
    "nlp = en_core_web_sm.load()\n",
    "\n",
    "# apply model to text\n",
    "doc = nlp(strft)"
   ]
  },
  {
   "cell_type": "code",
   "execution_count": 304,
   "metadata": {},
   "outputs": [],
   "source": [
    "# create dic of NET words and according labels\n",
    "\n",
    "doc_dict = {}\n",
    "\n",
    "# extract labels into a dict\n",
    "for ent in doc.ents: # .ents gives NET (Named Entity Recognition)\n",
    "    doc_dict[ent.text] = ent.label_\n",
    "\n",
    "# transform to df\n",
    "doc_df = pd.DataFrame(list(doc_dict.items()),columns = ['Word','Label'])\n",
    "\n",
    "# get series with just 'people' labels\n",
    "people = doc_df.Word[doc_df.Label=='PERSON'].reset_index(drop=True)\n",
    "\n",
    "# get the number of times that name appears in the text\n",
    "count = []\n",
    "for i in range(0,len(people)):\n",
    "    name = people[i]\n",
    "    count.append(len(re.findall(name, strft)))\n",
    "    \n",
    "# create df with names and counts\n",
    "people_df = pd.DataFrame()\n",
    "people_df['Names'] = people\n",
    "people_df['Count'] = count\n",
    "\n",
    "# only want the most important characters\n",
    "# sort by count\n",
    "people_df = people_df.sort_values(by='Count', ascending=False)\n",
    "\n",
    "# only considering characters that are mentioned more than 10 times\n",
    "people_df = people_df[people_df.Count>10].reset_index(drop=True)"
   ]
  },
  {
   "cell_type": "code",
   "execution_count": 305,
   "metadata": {},
   "outputs": [],
   "source": [
    "# spacy isn't perfect, so going to take out some that are obviously wrong\n",
    "bad = [5,8,9,18,22,23,26,33]\n",
    "people_df = people_df.drop(index=bad).reset_index(drop=True)"
   ]
  },
  {
   "cell_type": "code",
   "execution_count": 308,
   "metadata": {},
   "outputs": [
    {
     "data": {
      "text/plain": [
       "0         Case\n",
       "1         Moll\n",
       "2        Molly\n",
       "3      Maelcum\n",
       "4         Finn\n",
       "5       Winter\n",
       "6         Jane\n",
       "7     Flatline\n",
       "8        Corto\n",
       "9        Linda\n",
       "10     Tessier\n",
       "11       Peter\n",
       "12         Dix\n",
       "13       Kuang\n",
       "14       Smith\n",
       "15       Aerol\n",
       "16        Chin\n",
       "17      Ninsei\n",
       "18         Ver\n",
       "19       Dixie\n",
       "20       Braun\n",
       "21        Zone\n",
       "22       Julie\n",
       "23       Bruce\n",
       "24      Pierre\n",
       "25         Bet\n",
       "Name: Names, dtype: object"
      ]
     },
     "execution_count": 308,
     "metadata": {},
     "output_type": "execute_result"
    }
   ],
   "source": [
    "# list of names to check for\n",
    "names = people_df.Names\n",
    "names"
   ]
  },
  {
   "cell_type": "markdown",
   "metadata": {},
   "source": [
    "Now that I have my list, I'm going to come through the text for every bad instance of these names."
   ]
  },
  {
   "cell_type": "code",
   "execution_count": 373,
   "metadata": {},
   "outputs": [],
   "source": [
    "comma_replace = r','\n",
    "period_replace = r'.'\n",
    "question_replace = r'?'\n",
    "beginning_replace = r'\"'  \n",
    "\n",
    "# remove_superfulous removes all uncessary instances of when a \n",
    "# character addresses another character by name in dialogue\n",
    "# args: \n",
    "#     name - str of a name   \n",
    "#     txt - str body of text to parse through\n",
    "def remove_superfulous(name, txt):\n",
    "    comma = ', {word},'.format(word=name)\n",
    "    period = ', {word}\\.'.format(word=name)\n",
    "    question = ', {word}\\?'.format(word=name)\n",
    "    beginning = '\"{word}.[^\"]'.format(word=name) \n",
    "\n",
    "    re.sub(comma, comma_replace, txt)\n",
    "    re.sub(period, period_replace, txt)\n",
    "    re.sub(question, question_replace, txt)\n",
    "    re.sub(beginning, beginning_replace, txt)\n",
    "    \n",
    "    # get rid of extra backslashes\n",
    "    txt = re.sub(r'\\\\', r'',txt)\n",
    "    \n",
    "    return txt"
   ]
  },
  {
   "cell_type": "code",
   "execution_count": 374,
   "metadata": {},
   "outputs": [],
   "source": [
    "# applying function to create new fext \"new_ft\"\n",
    "for name in names:\n",
    "    new_ft = remove_superfulous(name, strft)"
   ]
  },
  {
   "cell_type": "markdown",
   "metadata": {},
   "source": [
    "Here's the sample from before. So much better, right?"
   ]
  },
  {
   "cell_type": "code",
   "execution_count": 391,
   "metadata": {},
   "outputs": [
    {
     "name": "stdout",
     "output_type": "stream",
     "text": [
      "\n",
      "\"Get your coffee,\" Molly said. \"You’re okay, but you’re not going anywhere 'til Armitage has his \n",
      "say.\" She sat cross legged on a silk futon and began to fieldstrip the fletcher without bothering to look at \n",
      "it. Twin mirrors tracking as he crossed to the table and refilled his cup. \n",
      "\n",
      "\"Too young to remember the war, aren’t you?\" Armitage ran a large hand back through his \n",
      "cropped brown hair. A heavy gold bracelet flashed on his wrist. \"Leningrad, Kiev, Siberia. We invented \n",
      "you in Siberia.\" \n",
      "\n",
      "\"What’s that supposed to mean?\" \n",
      "\n",
      "\"Screaming Fist. You’ve heard the name.\" \n",
      "\n",
      "\"Some kind of run, wasn’t it? Tried to burn this Russian nexus with virus programs. Yeah, I heard about \n",
      "it. And nobody got out.\" \n",
      "\n",
      "He sensed abrupt tension. Armitage walked to the window and looked out over Tokyo Bay. \"That isn’t \n",
      "true. One unit made it back to Helsinki.\"\n"
     ]
    }
   ],
   "source": [
    "print(new_ft[57603:58451])"
   ]
  },
  {
   "cell_type": "markdown",
   "metadata": {},
   "source": [
    "Now I've got to export it. My plan is to save it as a text file and then use pandoc to save it as an epub. "
   ]
  },
  {
   "cell_type": "code",
   "execution_count": 392,
   "metadata": {},
   "outputs": [],
   "source": [
    "# create a metadata text file for pandoc\n",
    "metadata = '''\n",
    "---\n",
    "title:\n",
    "- type: main\n",
    "  text: Neuromancer (modified)\n",
    "creator:\n",
    "- role: author\n",
    "  text: William Gibson\n",
    "identifier:\n",
    "- scheme: ISBN-10\n",
    "  text: ISBN: 0-441-56958-7 \n",
    "publisher:  Ace Science Fiction edition\n",
    "rights: Copyright © 1984 by William Gibson\n",
    "css: base.css\n",
    "...\n",
    "'''\n",
    "\n",
    "outfile = open('metadata.txt','w')\n",
    "outfile.write(metadata)\n",
    "outfile.close()"
   ]
  },
  {
   "cell_type": "code",
   "execution_count": 393,
   "metadata": {},
   "outputs": [],
   "source": [
    "# create a md file of full text for pandoc\n",
    "outfile = open('fulltextmodified','w')\n",
    "outfile.write(new_ft)\n",
    "outfile.close()"
   ]
  },
  {
   "cell_type": "markdown",
   "metadata": {},
   "source": [
    "# APPENDIX"
   ]
  },
  {
   "cell_type": "markdown",
   "metadata": {},
   "source": [
    "Case will always be surrounded by two punctuation marks if it's unnecessary\n",
    "- \"Case, --> r'\"'\n",
    "- \"Case. --> r'\"'\n",
    "- ~~, Case.\" --> r'\\.\"'~~\n",
    "- ~~, Case,\" --> r',\"'~~\n",
    "- ~~, Case?\" --> r'?\"'~~\n",
    "- , Case, --> r','\n",
    "- , Case. --> r'\\.'\n",
    "- , Case? --> r'\\?'"
   ]
  }
 ],
 "metadata": {
  "kernelspec": {
   "display_name": "Python 3",
   "language": "python",
   "name": "python3"
  },
  "language_info": {
   "codemirror_mode": {
    "name": "ipython",
    "version": 3
   },
   "file_extension": ".py",
   "mimetype": "text/x-python",
   "name": "python",
   "nbconvert_exporter": "python",
   "pygments_lexer": "ipython3",
   "version": "3.7.4"
  }
 },
 "nbformat": 4,
 "nbformat_minor": 2
}
